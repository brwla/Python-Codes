{
 "cells": [
  {
   "cell_type": "code",
   "execution_count": 15,
   "metadata": {},
   "outputs": [],
   "source": [
    "class Person:\n",
    "    def __init__(self,name,age):\n",
    "        self.name = name\n",
    "        self.age = age\n",
    "    \n",
    "    def display(self):\n",
    "        print(f\"Hello, I am {self.name}.\")\n",
    "        print(f\"I am {self.age} yrs old.\")\n",
    "\n",
    "    def walk(self):\n",
    "        print(f\"{self.name} is walking.\")\n",
    "\n",
    "    def run(self):\n",
    "        print(f\"{self.name} is running.\")\n",
    "\n",
    "    def eat(self):\n",
    "        print(f\"{self.name} is eating.\")\n",
    "\n",
    "    def sleep(self):\n",
    "        print(f\"{self.name} is sleeping.\")"
   ]
  },
  {
   "cell_type": "code",
   "execution_count": 16,
   "metadata": {},
   "outputs": [],
   "source": [
    "class Artist(Person):\n",
    "    def display(self):\n",
    "        super().display()\n",
    "        print(f\"I am an artist.\")\n",
    "\n",
    "    def paint(self):\n",
    "        print(f\"{self.name} is painting.\")\n",
    "\n",
    "    def draw(self):\n",
    "        print(f\"{self.name} is drawing.\")"
   ]
  },
  {
   "cell_type": "code",
   "execution_count": 17,
   "metadata": {},
   "outputs": [],
   "source": [
    "class Musician(Person):\n",
    "    def display(self):\n",
    "        super().display()\n",
    "        print(f\"I am a musician.\")\n",
    "    \n",
    "    def play(self):\n",
    "        print(f\"{self.name} is playing an instrument.\")"
   ]
  },
  {
   "cell_type": "code",
   "execution_count": 18,
   "metadata": {},
   "outputs": [
    {
     "name": "stdout",
     "output_type": "stream",
     "text": [
      "Hello, I am Mika.\n",
      "I am 26 yrs old.\n",
      "I am an artist.\n"
     ]
    }
   ],
   "source": [
    "mika = Artist(\"Mika\", 26)\n",
    "mika.display()"
   ]
  },
  {
   "cell_type": "code",
   "execution_count": 20,
   "metadata": {},
   "outputs": [
    {
     "name": "stdout",
     "output_type": "stream",
     "text": [
      "Mika is walking.\n",
      "Mika is drawing.\n"
     ]
    }
   ],
   "source": [
    "mika.walk()\n",
    "mika.draw()"
   ]
  },
  {
   "cell_type": "code",
   "execution_count": 21,
   "metadata": {},
   "outputs": [
    {
     "name": "stdout",
     "output_type": "stream",
     "text": [
      "Hello, I am Ren.\n",
      "I am 22 yrs old.\n",
      "I am a musician.\n"
     ]
    }
   ],
   "source": [
    "ren = Musician(\"Ren\", 22)\n",
    "ren.display()"
   ]
  },
  {
   "cell_type": "code",
   "execution_count": 22,
   "metadata": {},
   "outputs": [
    {
     "name": "stdout",
     "output_type": "stream",
     "text": [
      "Ren is eating.\n",
      "Ren is playing an instrument.\n",
      "Ren is sleeping.\n"
     ]
    }
   ],
   "source": [
    "ren.eat()\n",
    "ren.play()\n",
    "ren.sleep()"
   ]
  }
 ],
 "metadata": {
  "kernelspec": {
   "display_name": "Python 3",
   "language": "python",
   "name": "python3"
  },
  "language_info": {
   "codemirror_mode": {
    "name": "ipython",
    "version": 3
   },
   "file_extension": ".py",
   "mimetype": "text/x-python",
   "name": "python",
   "nbconvert_exporter": "python",
   "pygments_lexer": "ipython3",
   "version": "3.10.8"
  },
  "orig_nbformat": 4,
  "vscode": {
   "interpreter": {
    "hash": "e7370f93d1d0cde622a1f8e1c04877d8463912d04d973331ad4851f04de6915a"
   }
  }
 },
 "nbformat": 4,
 "nbformat_minor": 2
}
